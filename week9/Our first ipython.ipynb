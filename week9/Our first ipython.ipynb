{
 "cells": [
  {
   "cell_type": "code",
   "execution_count": null,
   "metadata": {},
   "outputs": [],
   "source": [
    "import multiprocessing\n",
    "import time"
   ]
  },
  {
   "cell_type": "code",
   "execution_count": 8,
   "metadata": {},
   "outputs": [],
   "source": [
    "def step_right(process_number):\n",
    "    print(\"Start out process\", process_number)\n",
    "    while True:\n",
    "        print(\"I am working. My name is \", process_number)\n",
    "        time.sleep(process_number)"
   ]
  },
  {
   "cell_type": "code",
   "execution_count": null,
   "metadata": {},
   "outputs": [],
   "source": [
    "print(step_right)"
   ]
  },
  {
   "cell_type": "code",
   "execution_count": null,
   "metadata": {},
   "outputs": [],
   "source": [
    "left_step = multiprocessing.Process(target=step_right)"
   ]
  },
  {
   "cell_type": "code",
   "execution_count": null,
   "metadata": {},
   "outputs": [],
   "source": [
    "left_step.start()"
   ]
  },
  {
   "cell_type": "code",
   "execution_count": null,
   "metadata": {},
   "outputs": [],
   "source": []
  },
  {
   "cell_type": "code",
   "execution_count": 12,
   "metadata": {},
   "outputs": [
    {
     "name": "stdout",
     "output_type": "stream",
     "text": [
      "Start out process 2\n",
      "Start out process 3\n",
      "I am working. My name is  2\n",
      "Start out process 4\n",
      "I am working. My name is  3\n",
      "I am working. My name is  4\n",
      "Start out process 6\n",
      "Start out process 5\n",
      "I am working. My name is  6\n",
      "I am working. My name is  5\n",
      "Start out process 8\n",
      "Start out process 7\n",
      "I am working. My name is  8\n",
      "I am working. My name is  7\n",
      "Start out process 9\n",
      "I am working. My name is  9\n",
      "I am working. My name is  2\n",
      "I am working. My name is  3\n",
      "I am working. My name is  2\n",
      "I am working. My name is  4\n",
      "I am working. My name is  5\n",
      "I am working. My name is  3\n",
      "I am working. My name is  2\n",
      "I am working. My name is  6\n",
      "I am working. My name is  7\n",
      "I am working. My name is  2\n",
      "I am working. My name is  4\n",
      "I am working. My name is  8\n",
      "I am working. My name is  3\n",
      "I am working. My name is  9\n",
      "I am working. My name is  2\n",
      "I am working. My name is  5\n",
      "I am working. My name is  3\n",
      "I am working. My name is  2\n",
      "I am working. My name is  6\n",
      "I am working. My name is  4\n",
      "I am working. My name is  2\n",
      "I am working. My name is  7\n",
      "I am working. My name is  3\n",
      "I am working. My name is  5\n",
      "I am working. My name is  2\n",
      "I am working. My name is  4\n",
      "I am working. My name is  8\n",
      "I am working. My name is  3\n",
      "I am working. My name is  2\n",
      "I am working. My name is  6\n",
      "I am working. My name is  9\n",
      "I am working. My name is  2\n",
      "I am working. My name is  4\n",
      "I am working. My name is  5\n",
      "I am working. My name is  3\n",
      "I am working. My name is  7\n",
      "I am working. My name is  2\n",
      "I am working. My name is  3\n",
      "I am working. My name is  2\n",
      "I am working. My name is  6\n",
      "I am working. My name is  4\n",
      "I am working. My name is  8\n",
      "I am working. My name is  5\n",
      "I am working. My name is  2\n",
      "I am working. My name is  3\n",
      "I am working. My name is  9\n",
      "I am working. My name is  2\n",
      "I am working. My name is  4\n",
      "I am working. My name is  7\n",
      "I am working. My name is  3\n",
      "I am working. My name is  2\n",
      "I am working. My name is  6\n",
      "I am working. My name is  5\n",
      "I am working. My name is  2\n",
      "I am working. My name is  4\n",
      "I am working. My name is  8\n",
      "I am working. My name is  3\n",
      "I am working. My name is  2\n",
      "I am working. My name is  7\n",
      "I am working. My name is  5\n",
      "I am working. My name is  3\n",
      "I am working. My name is  2\n",
      "I am working. My name is  6\n",
      "I am working. My name is  4\n",
      "I am working. My name is  9\n"
     ]
    }
   ],
   "source": [
    "jobs = []\n",
    "for i in range(2, 10):\n",
    "    p = multiprocessing.Process(target=step_right, args=(i,))\n",
    "    jobs.append(p)\n",
    "    p.start()"
   ]
  },
  {
   "cell_type": "code",
   "execution_count": 11,
   "metadata": {},
   "outputs": [
    {
     "name": "stdout",
     "output_type": "stream",
     "text": [
      "Start out process 9\n",
      "I am working. My name is  9\n"
     ]
    },
    {
     "ename": "AssertionError",
     "evalue": "cannot start a process twice",
     "output_type": "error",
     "traceback": [
      "\u001b[0;31m---------------------------------------------------------------------------\u001b[0m",
      "\u001b[0;31mAssertionError\u001b[0m                            Traceback (most recent call last)",
      "\u001b[0;32m<ipython-input-11-07e1ab451814>\u001b[0m in \u001b[0;36m<module>\u001b[0;34m\u001b[0m\n\u001b[1;32m      1\u001b[0m \u001b[0;32mfor\u001b[0m \u001b[0mprocess\u001b[0m \u001b[0;32min\u001b[0m \u001b[0mjobs\u001b[0m\u001b[0;34m:\u001b[0m\u001b[0;34m\u001b[0m\u001b[0m\n\u001b[0;32m----> 2\u001b[0;31m     \u001b[0mp\u001b[0m\u001b[0;34m.\u001b[0m\u001b[0mstart\u001b[0m\u001b[0;34m(\u001b[0m\u001b[0;34m)\u001b[0m\u001b[0;34m\u001b[0m\u001b[0m\n\u001b[0m",
      "\u001b[0;32m/usr/local/lib/python3.7/multiprocessing/process.py\u001b[0m in \u001b[0;36mstart\u001b[0;34m(self)\u001b[0m\n\u001b[1;32m    104\u001b[0m         '''\n\u001b[1;32m    105\u001b[0m         \u001b[0mself\u001b[0m\u001b[0;34m.\u001b[0m\u001b[0m_check_closed\u001b[0m\u001b[0;34m(\u001b[0m\u001b[0;34m)\u001b[0m\u001b[0;34m\u001b[0m\u001b[0m\n\u001b[0;32m--> 106\u001b[0;31m         \u001b[0;32massert\u001b[0m \u001b[0mself\u001b[0m\u001b[0;34m.\u001b[0m\u001b[0m_popen\u001b[0m \u001b[0;32mis\u001b[0m \u001b[0;32mNone\u001b[0m\u001b[0;34m,\u001b[0m \u001b[0;34m'cannot start a process twice'\u001b[0m\u001b[0;34m\u001b[0m\u001b[0m\n\u001b[0m\u001b[1;32m    107\u001b[0m         \u001b[0;32massert\u001b[0m \u001b[0mself\u001b[0m\u001b[0;34m.\u001b[0m\u001b[0m_parent_pid\u001b[0m \u001b[0;34m==\u001b[0m \u001b[0mos\u001b[0m\u001b[0;34m.\u001b[0m\u001b[0mgetpid\u001b[0m\u001b[0;34m(\u001b[0m\u001b[0;34m)\u001b[0m\u001b[0;34m,\u001b[0m\u001b[0;31m \u001b[0m\u001b[0;31m\\\u001b[0m\u001b[0;34m\u001b[0m\u001b[0m\n\u001b[1;32m    108\u001b[0m                \u001b[0;34m'can only start a process object created by current process'\u001b[0m\u001b[0;34m\u001b[0m\u001b[0m\n",
      "\u001b[0;31mAssertionError\u001b[0m: cannot start a process twice"
     ]
    },
    {
     "name": "stdout",
     "output_type": "stream",
     "text": [
      "I am working. My name is  9\n",
      "I am working. My name is  9\n",
      "I am working. My name is  9\n",
      "I am working. My name is  9\n",
      "I am working. My name is  9\n",
      "I am working. My name is  9\n",
      "I am working. My name is  9\n",
      "I am working. My name is  9\n"
     ]
    }
   ],
   "source": [
    "for process in jobs:\n",
    "    p.start()"
   ]
  }
 ],
 "metadata": {
  "kernelspec": {
   "display_name": "Python 3",
   "language": "python",
   "name": "python3"
  },
  "language_info": {
   "codemirror_mode": {
    "name": "ipython",
    "version": 3
   },
   "file_extension": ".py",
   "mimetype": "text/x-python",
   "name": "python",
   "nbconvert_exporter": "python",
   "pygments_lexer": "ipython3",
   "version": "3.7.0"
  }
 },
 "nbformat": 4,
 "nbformat_minor": 2
}
