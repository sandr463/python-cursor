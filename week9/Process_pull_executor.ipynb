{
 "cells": [
  {
   "cell_type": "code",
   "execution_count": 2,
   "metadata": {},
   "outputs": [],
   "source": [
    "from concurrent.futures import ProcessPoolExecutor\n",
    "import time"
   ]
  },
  {
   "cell_type": "code",
   "execution_count": 24,
   "metadata": {},
   "outputs": [
    {
     "name": "stdout",
     "output_type": "stream",
     "text": [
      "Not yet I will waiting \n",
      "Not yet I will waiting \n",
      "Not yet I will waiting \n",
      "Not yet I will waiting \n",
      "Not yet I will waiting \n",
      "Not yet I will waiting \n",
      "Process finish his work. Here is an result\n",
      "Hello ('Denis',)\n"
     ]
    }
   ],
   "source": [
    "our_executor = ProcessPoolExecutor(5)\n",
    "future = our_executor.submit(say_hello, (\"Denis\", ))\n",
    "for _ in range(1, 10):\n",
    "    if future.done():\n",
    "        print(\"Process finish his work. Here is an result\")\n",
    "        print(future.result())\n",
    "        break\n",
    "    else:\n",
    "        print(\"Not yet I will waiting \")\n",
    "        time.sleep(1)"
   ]
  },
  {
   "cell_type": "code",
   "execution_count": 9,
   "metadata": {},
   "outputs": [],
   "source": [
    "def say_hello(name):\n",
    "    time.sleep(5)\n",
    "    return f\"Hello {name}\" "
   ]
  },
  {
   "cell_type": "code",
   "execution_count": 23,
   "metadata": {},
   "outputs": [
    {
     "ename": "SyntaxError",
     "evalue": "unexpected EOF while parsing (<ipython-input-23-1ca303cdd1e4>, line 1)",
     "output_type": "error",
     "traceback": [
      "\u001b[0;36m  File \u001b[0;32m\"<ipython-input-23-1ca303cdd1e4>\"\u001b[0;36m, line \u001b[0;32m1\u001b[0m\n\u001b[0;31m    for _ in range(1, 10):\u001b[0m\n\u001b[0m                          ^\u001b[0m\n\u001b[0;31mSyntaxError\u001b[0m\u001b[0;31m:\u001b[0m unexpected EOF while parsing\n"
     ]
    }
   ],
   "source": [
    "for _ in range(1, 10):\n",
    "    if future.done():\n",
    "        print(\"Process finish his work. Here is an result\")\n",
    "        print(future.result())\n",
    "        break\n",
    "    else:\n",
    "        print(\"Not yet I will waiting \")\n",
    "        time.sleep(1)"
   ]
  },
  {
   "cell_type": "code",
   "execution_count": 22,
   "metadata": {},
   "outputs": [
    {
     "name": "stdout",
     "output_type": "stream",
     "text": [
      "Hello ('Denis',)\n"
     ]
    }
   ],
   "source": [
    "print(future.result())"
   ]
  }
 ],
 "metadata": {
  "kernelspec": {
   "display_name": "Python 3",
   "language": "python",
   "name": "python3"
  },
  "language_info": {
   "codemirror_mode": {
    "name": "ipython",
    "version": 3
   },
   "file_extension": ".py",
   "mimetype": "text/x-python",
   "name": "python",
   "nbconvert_exporter": "python",
   "pygments_lexer": "ipython3",
   "version": "3.7.0"
  }
 },
 "nbformat": 4,
 "nbformat_minor": 2
}
