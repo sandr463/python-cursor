{
 "cells": [
  {
   "cell_type": "code",
   "execution_count": 1,
   "metadata": {},
   "outputs": [],
   "source": [
    "from concurrent.futures import ProcessPoolExecutor, ThreadPoolExecutor\n",
    "import numpy as np\n",
    "import time\n",
    "import matplotlib.pyplot as plt\n",
    "import glob\n",
    "from PIL import Image\n",
    "import random\n",
    "import string\n",
    "%matplotlib inline"
   ]
  },
  {
   "cell_type": "code",
   "execution_count": 2,
   "metadata": {},
   "outputs": [],
   "source": [
    "MULTITHREADING_TITLE=\"Multithreading\"\n",
    "MULTIPROCESSING_TITLE=\"Multiprocessing\"\n",
    "\n",
    "def visualize_runtimes(results, title):\n",
    "    start,stop = np.array(results).T\n",
    "    plt.barh(range(len(start)),stop-start,left=start)\n",
    "    plt.grid(axis='x')\n",
    "    plt.ylabel(\"Tasks\")\n",
    "    plt.xlabel(\"Seconds\")\n",
    "    plt.title(title)\n",
    "    return stop[-1]-start[0]"
   ]
  },
  {
   "cell_type": "code",
   "execution_count": 3,
   "metadata": {},
   "outputs": [],
   "source": [
    "def multithreading(func, args, workers):\n",
    "    begin_time = time.time()\n",
    "    with ThreadPoolExecutor(max_workers=workers) as executor:\n",
    "        res = executor.map(func, args, [begin_time for i in range(len(args))])\n",
    "    return list(res)\n",
    "        \n",
    "def multiprocessing(func, args, workers):\n",
    "    begin_time = time.time()\n",
    "    with ProcessPoolExecutor(max_workers=workers) as executor:\n",
    "        res = executor.map(func, args, [begin_time for i in range(len(args))])\n",
    "    return list(res)"
   ]
  },
  {
   "cell_type": "code",
   "execution_count": 17,
   "metadata": {},
   "outputs": [],
   "source": [
    "from urllib.request import urlopen\n",
    "\n",
    "def download(url, base):\n",
    "    start = time.time() - base\n",
    "    try:\n",
    "        resp = urlopen(url, timeout=1)\n",
    "    except Exception as e:\n",
    "        print ('ERROR: %s' % e)\n",
    "    stop = time.time() - base\n",
    "    return start,stop"
   ]
  },
  {
   "cell_type": "code",
   "execution_count": 22,
   "metadata": {},
   "outputs": [],
   "source": [
    "N = 5\n",
    "URL = 'http://scholar.princeton.edu/sites/default/files/oversize_pdf_test_0.pdf'\n",
    "urls = [URL for i in range(N)]"
   ]
  },
  {
   "cell_type": "code",
   "execution_count": 20,
   "metadata": {},
   "outputs": [
    {
     "name": "stdout",
     "output_type": "stream",
     "text": [
      "1.84 s ± 3.76 ms per loop (mean ± std. dev. of 7 runs, 1 loop each)\n"
     ]
    }
   ],
   "source": [
    "%timeit -n 1 [download(url, 1) for url in urls]"
   ]
  },
  {
   "cell_type": "code",
   "execution_count": 23,
   "metadata": {
    "scrolled": true
   },
   "outputs": [
    {
     "data": {
      "text/plain": [
       "4.606606960296631"
      ]
     },
     "execution_count": 23,
     "metadata": {},
     "output_type": "execute_result"
    },
    {
     "data": {
      "image/png": "[encoded data removed]",
      "text/plain": [
       "<Figure size 432x288 with 1 Axes>"
      ]
     },
     "metadata": {
      "needs_background": "light"
     },
     "output_type": "display_data"
    }
   ],
   "source": [
    "visualize_runtimes(multithreading(download, urls, 1), \"Single Thread\")"
   ]
  },
  {
   "cell_type": "code",
   "execution_count": 25,
   "metadata": {},
   "outputs": [
    {
     "data": {
      "text/plain": [
       "1.877889633178711"
      ]
     },
     "execution_count": 25,
     "metadata": {},
     "output_type": "execute_result"
    },
    {
     "data": {
      "image/png": "[encoded data removed]",
      "text/plain": [
       "<Figure size 432x288 with 1 Axes>"
      ]
     },
     "metadata": {
      "needs_background": "light"
     },
     "output_type": "display_data"
    }
   ],
   "source": [
    "\n",
    "visualize_runtimes(multithreading(download, urls, 2),MULTITHREADING_TITLE)"
   ]
  }
 ],
 "metadata": {
  "kernelspec": {
   "display_name": "Python 3",
   "language": "python",
   "name": "python3"
  },
  "language_info": {
   "codemirror_mode": {
    "name": "ipython",
    "version": 3
   },
   "file_extension": ".py",
   "mimetype": "text/x-python",
   "name": "python",
   "nbconvert_exporter": "python",
   "pygments_lexer": "ipython3",
   "version": "3.7.0"
  }
 },
 "nbformat": 4,
 "nbformat_minor": 2
}
